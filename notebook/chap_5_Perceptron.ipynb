{
  "nbformat": 4,
  "nbformat_minor": 0,
  "metadata": {
    "colab": {
      "provenance": [],
      "collapsed_sections": [],
      "authorship_tag": "ABX9TyOVZGNT+8XYeo63nJAvvhbh",
      "include_colab_link": true
    },
    "kernelspec": {
      "name": "python3",
      "display_name": "Python 3"
    },
    "language_info": {
      "name": "python"
    }
  },
  "cells": [
    {
      "cell_type": "markdown",
      "metadata": {
        "id": "view-in-github",
        "colab_type": "text"
      },
      "source": [
        "<a href=\"https://colab.research.google.com/github/dnjswlcks67/pdm12/blob/main/notebook/chap_5_Perceptron.ipynb\" target=\"_parent\"><img src=\"https://colab.research.google.com/assets/colab-badge.svg\" alt=\"Open In Colab\"/></a>"
      ]
    },
    {
      "cell_type": "markdown",
      "source": [
        "# ch05-Perceptron "
      ],
      "metadata": {
        "id": "Mb97hKzbp2FM"
      }
    },
    {
      "cell_type": "markdown",
      "source": [
        "## using core python"
      ],
      "metadata": {
        "id": "p-86hL9wp7o5"
      }
    },
    {
      "cell_type": "code",
      "execution_count": 1,
      "metadata": {
        "colab": {
          "base_uri": "https://localhost:8080/"
        },
        "id": "MANfCKhsp0_Z",
        "outputId": "44ea1b62-6d4b-4830-baed-7d7ca5c3a0c0"
      },
      "outputs": [
        {
          "output_type": "stream",
          "name": "stdout",
          "text": [
            "0\n",
            "0\n",
            "0\n",
            "1\n"
          ]
        }
      ],
      "source": [
        "epsilon = 0.0000001\n",
        "\n",
        "def perceptron(x1, x2):\n",
        "    w1, w2, b = 1.0, 1.0, -1.5\n",
        "    sum = x1*w1+x2*w2+b\n",
        "    if sum > epsilon :\t\t# 부동소수점 오차를 방지하기 위하여\n",
        "        return 1\n",
        "    else :\n",
        "        return 0\n",
        "    \n",
        "print(perceptron(0, 0))\n",
        "print(perceptron(1, 0))\n",
        "print(perceptron(0, 1))\n",
        "print(perceptron(1, 1))\n"
      ]
    },
    {
      "cell_type": "markdown",
      "source": [
        "## simple Perceptron using numpy\n"
      ],
      "metadata": {
        "id": "nyNtDY5GqGlI"
      }
    },
    {
      "cell_type": "code",
      "source": [
        "import numpy as np\n",
        "epsilon = 0.0000001\n",
        "\n",
        "def perceptron(x1, x2):\n",
        "    X = np.array([x1, x2])\n",
        "    W = np.array([1.0, 1.0])\n",
        "    B = -1.5\n",
        "    sum = np.dot(W, X)+B #X벡터 와 W배열의 각 요소를 곱한 후 더한다 = np.dot\n",
        "    if sum > epsilon :\n",
        "        return 1\n",
        "    else :\n",
        "        return 0\n",
        "\n",
        "print(perceptron(0, 0))\n",
        "print(perceptron(1, 0))\n",
        "print(perceptron(0, 1))\n",
        "print(perceptron(1, 1))\n"
      ],
      "metadata": {
        "colab": {
          "base_uri": "https://localhost:8080/"
        },
        "id": "Bi_bpJ7PqKKx",
        "outputId": "406be1fa-bfc1-487d-e5c2-880a9495d1e1"
      },
      "execution_count": 2,
      "outputs": [
        {
          "output_type": "stream",
          "name": "stdout",
          "text": [
            "0\n",
            "0\n",
            "0\n",
            "1\n"
          ]
        }
      ]
    },
    {
      "cell_type": "markdown",
      "source": [
        "## Training perceptron using numpy"
      ],
      "metadata": {
        "id": "NQB4nb4PqQbh"
      }
    },
    {
      "cell_type": "code",
      "source": [
        "import numpy as np\n",
        "\n",
        "epsilon = 0.0000001\t\t# 부동소수점 오차 방지\n",
        "\n",
        "def step_func(t):\t\t# 퍼셉트론의 활성화 함수\n",
        "    if t > epsilon: return 1\n",
        "    else: return 0\n",
        "\n",
        "X = np.array([\t\t\t# 훈련 데이터 세트\n",
        "    [0, 0, 1],\t\t\t# 맨 끝의 1은 바이어스를 위한 입력 신호 1이다. \n",
        "    [0, 1, 1],\t\t\t# 맨 끝의 1은 바이어스를 위한 입력 신호 1이다. \n",
        "    [1, 0, 1],\t\t\t# 맨 끝의 1은 바이어스를 위한 입력 신호 1이다. \n",
        "    [1, 1, 1]\t\t\t# 맨 끝의 1은 바이어스를 위한 입력 신호 1이다. \n",
        "])\n",
        "\t\n",
        "y = np.array([0, 0, 0, 1])\t# 정답을 저장하는 넘파이 행렬\n",
        "W = np.zeros(len(X[0]))\t# 가중치를 저장하는 넘파이 행렬\n",
        "# len(X[0]) = 데이터의 1번째 행의 요소 갯수 \n",
        "# len(X) = 데이터의 행의 갯수\n",
        "\n",
        "# 학습\n",
        "def perceptron_fit(X, Y, epochs=10):\t# 퍼셉트론 학습 알고리즘 구현\n",
        "    global W\n",
        "    eta = 0.2\t# 학습률\n",
        "\n",
        "    for t in range(epochs):\n",
        "        print(\"epoch=\", t, \"======================\")\n",
        "        for i in range(len(X)):\n",
        "            predict = step_func(np.dot(X[i], W))\n",
        "            error = Y[i] - predict\t\t# 오차 계산\n",
        "            W += eta * error * X[i]\t\t# 가중치 업데이트\n",
        "            print(\"현재 처리 입력=\",X[i],\"정답=\",Y[i],\"출력=\",predict,\"변경된 가중치=\", W)\n",
        "        print(\"================================\")\n",
        "\n",
        "\n",
        "# 예측 => 학습된 W를 이용\n",
        "def perceptron_predict(X, Y):\t\t\n",
        "    global W\n",
        "    for x in X:\n",
        "         print(x[0], x[1], \"->\", step_func(np.dot(x, W)))\n",
        "\n",
        "########################################\n",
        "#  학습과 예측\n",
        "########################################\n",
        "perceptron_fit(X, y, 6) #x라는 데이터(target 데이터)를 y로 예측할 때 가중치를 알기 위해 6번 -모델 학습 정확한 가중치를 아는 것 이 중요 \n",
        "W # 0.4 0.2 -0.4를 이용해 예측한다. \n",
        "perceptron_predict(X, y) #퍼센트론 구조로 and 연산을 학습시킴. \n"
      ],
      "metadata": {
        "colab": {
          "base_uri": "https://localhost:8080/"
        },
        "id": "DySBYiEUqgTY",
        "outputId": "37cde3d8-98a4-4378-aff4-ce5e14a974fc"
      },
      "execution_count": 3,
      "outputs": [
        {
          "output_type": "stream",
          "name": "stdout",
          "text": [
            "epoch= 0 ======================\n",
            "현재 처리 입력= [0 0 1] 정답= 0 출력= 0 변경된 가중치= [0. 0. 0.]\n",
            "현재 처리 입력= [0 1 1] 정답= 0 출력= 0 변경된 가중치= [0. 0. 0.]\n",
            "현재 처리 입력= [1 0 1] 정답= 0 출력= 0 변경된 가중치= [0. 0. 0.]\n",
            "현재 처리 입력= [1 1 1] 정답= 1 출력= 0 변경된 가중치= [0.2 0.2 0.2]\n",
            "================================\n",
            "epoch= 1 ======================\n",
            "현재 처리 입력= [0 0 1] 정답= 0 출력= 1 변경된 가중치= [0.2 0.2 0. ]\n",
            "현재 처리 입력= [0 1 1] 정답= 0 출력= 1 변경된 가중치= [ 0.2  0.  -0.2]\n",
            "현재 처리 입력= [1 0 1] 정답= 0 출력= 0 변경된 가중치= [ 0.2  0.  -0.2]\n",
            "현재 처리 입력= [1 1 1] 정답= 1 출력= 0 변경된 가중치= [0.4 0.2 0. ]\n",
            "================================\n",
            "epoch= 2 ======================\n",
            "현재 처리 입력= [0 0 1] 정답= 0 출력= 0 변경된 가중치= [0.4 0.2 0. ]\n",
            "현재 처리 입력= [0 1 1] 정답= 0 출력= 1 변경된 가중치= [ 0.4  0.  -0.2]\n",
            "현재 처리 입력= [1 0 1] 정답= 0 출력= 1 변경된 가중치= [ 0.2  0.  -0.4]\n",
            "현재 처리 입력= [1 1 1] 정답= 1 출력= 0 변경된 가중치= [ 0.4  0.2 -0.2]\n",
            "================================\n",
            "epoch= 3 ======================\n",
            "현재 처리 입력= [0 0 1] 정답= 0 출력= 0 변경된 가중치= [ 0.4  0.2 -0.2]\n",
            "현재 처리 입력= [0 1 1] 정답= 0 출력= 0 변경된 가중치= [ 0.4  0.2 -0.2]\n",
            "현재 처리 입력= [1 0 1] 정답= 0 출력= 1 변경된 가중치= [ 0.2  0.2 -0.4]\n",
            "현재 처리 입력= [1 1 1] 정답= 1 출력= 0 변경된 가중치= [ 0.4  0.4 -0.2]\n",
            "================================\n",
            "epoch= 4 ======================\n",
            "현재 처리 입력= [0 0 1] 정답= 0 출력= 0 변경된 가중치= [ 0.4  0.4 -0.2]\n",
            "현재 처리 입력= [0 1 1] 정답= 0 출력= 1 변경된 가중치= [ 0.4  0.2 -0.4]\n",
            "현재 처리 입력= [1 0 1] 정답= 0 출력= 0 변경된 가중치= [ 0.4  0.2 -0.4]\n",
            "현재 처리 입력= [1 1 1] 정답= 1 출력= 1 변경된 가중치= [ 0.4  0.2 -0.4]\n",
            "================================\n",
            "epoch= 5 ======================\n",
            "현재 처리 입력= [0 0 1] 정답= 0 출력= 0 변경된 가중치= [ 0.4  0.2 -0.4]\n",
            "현재 처리 입력= [0 1 1] 정답= 0 출력= 0 변경된 가중치= [ 0.4  0.2 -0.4]\n",
            "현재 처리 입력= [1 0 1] 정답= 0 출력= 0 변경된 가중치= [ 0.4  0.2 -0.4]\n",
            "현재 처리 입력= [1 1 1] 정답= 1 출력= 1 변경된 가중치= [ 0.4  0.2 -0.4]\n",
            "================================\n",
            "0 0 -> 0\n",
            "0 1 -> 0\n",
            "1 0 -> 0\n",
            "1 1 -> 1\n"
          ]
        }
      ]
    },
    {
      "cell_type": "markdown",
      "source": [
        "## Perceptron : AND"
      ],
      "metadata": {
        "id": "R-zcV2dOqn58"
      }
    },
    {
      "cell_type": "code",
      "source": [
        "from sklearn.linear_model import Perceptron\n",
        "\n",
        "# 논리적 AND 연산 샘플과 정답이다. \n",
        "X = [[0,0],[0,1],[1,0],[1,1]]\t\t# 항상 2차원 배열이어야 한다. \n",
        "y = [0, 0, 0, 1]\n",
        "\n",
        "# 퍼셉트론을 생성한다. tol는 종료 조건이다. random_state는 난수의 시드이다.\n",
        "clf = Perceptron(tol=1e-3, random_state=0)\n",
        "\n",
        "# 학습을 수행한다. \n",
        "clf.fit(X, y)\n",
        "\n",
        "# 테스트를 수행한다. \n",
        "print(clf.predict(X))\n"
      ],
      "metadata": {
        "colab": {
          "base_uri": "https://localhost:8080/"
        },
        "id": "WhOm3TkIqz7I",
        "outputId": "3f1f8379-8daf-4db6-e2ce-b7ffc4e5230e"
      },
      "execution_count": 4,
      "outputs": [
        {
          "output_type": "stream",
          "name": "stdout",
          "text": [
            "[0 0 0 1]\n"
          ]
        }
      ]
    },
    {
      "cell_type": "markdown",
      "source": [
        "## Perceptron : XOR \n",
        "\n",
        "---\n",
        "\n"
      ],
      "metadata": {
        "id": "F9aCWNjeq14o"
      }
    },
    {
      "cell_type": "code",
      "source": [
        "from sklearn.linear_model import Perceptron\n",
        "\n",
        "# 논리적 AND 연산 샘플과 정답이다. \n",
        "X = [[0,0],[0,1],[1,0],[1,1]]\t\t# 항상 2차원 배열이어야 한다. \n",
        "y = [0, 1, 1, 0]\n",
        "\n",
        "# 퍼셉트론을 생성한다. tol는 종료 조건이다. random_state는 난수의 시드이다.\n",
        "clf = Perceptron(tol=1e-3, random_state=0)\n",
        "\n",
        "# 학습을 수행한다. \n",
        "clf.fit(X, y)\n",
        "\n",
        "# 테스트를 수행한다. \n",
        "print(clf.predict(X)) # 0 0 0 0 결과가 target 이랑 다르게 엉망 . \n"
      ],
      "metadata": {
        "colab": {
          "base_uri": "https://localhost:8080/"
        },
        "id": "n67sckcAq2bJ",
        "outputId": "4bbfb2e6-a55f-4cce-9a45-82ce18784184"
      },
      "execution_count": 5,
      "outputs": [
        {
          "output_type": "stream",
          "name": "stdout",
          "text": [
            "[0 0 0 0]\n"
          ]
        }
      ]
    },
    {
      "cell_type": "markdown",
      "source": [
        "## Perceptron: random dataset"
      ],
      "metadata": {
        "id": "wPY3mf-crmm_"
      }
    },
    {
      "cell_type": "markdown",
      "source": [
        "from matplotlib import pyplot as plt\n",
        "from sklearn.datasets import make_blobs #랜덤하게 데이터를 만드는 함수 \n",
        "from sklearn.linear_model import Perceptron\n",
        "import numpy as np\n",
        "\n",
        "# 퍼셉트론을 생성한다. tol는 종료 조건이다. random_state는 난수의 시드이다.\n",
        "clf = Perceptron(tol=1e-3, random_state=0) \n",
        "\n",
        "# 뭉쳐진 데이터를 만든다. 샘플의 개수는 총 100개, 클러스터의 개수는 2개이다. \n",
        "X, y = make_blobs(n_samples=100, centers=2) #input value = X TRUE value = y | 0,1 결과값은 0 100개 1 100개를 y에 넣는다. \n",
        "print(X.shape,y.shape) # 100,2  100, \n",
        "print(X[:5],y[:5]) #x데이터는 2차원 벡터. 100개의 2차원 포인트 중 50개는 0 50개는 1로 타겟이 할당되있음. \n",
        "plt.plot(X)\n",
        "plt.show()\n",
        "\n",
        "plt.scatter(X[:,0],X[:,1])\n",
        "plt.show()\n",
        "\n",
        "plt.scatter(X[:,0],X[:,1],c=y) #y=0일때는 다른 색으로 데이터를 표시 -  y=0 / 1 일때 색을 다르게 표시 \n",
        "plt.show()\n",
        "\n",
        "# Learning\n",
        "clf.fit(X, y) #퍼셉트론 훈련 \n",
        "\n",
        "#######################################\n",
        "from sklearn.metrics import accuracy_score\n",
        "print(accuracy_score(clf.predict(X), y)) # 모델이 예측한 값 + true 값-target 을 널어 정확도를 구한\n",
        "#데이터가 0과 1이 섞여있으면 정확도는 낮아진다. 랜덤으로 추출하므로 분포에 따라 달라짐. \n",
        "\n",
        "# 데이터를 그래프 위에 표시한다. \n",
        "plt.scatter(X[:, 0], X[:, 1], c=y, s=50) \n",
        "plt.xlabel(\"x1\")\n",
        "plt.ylabel(\"x2\")\n",
        "#plt.show() #섞인 분포라면 완벽하게 분리를 못한다. = 1개의 선으로 불가능 \n",
        "\n",
        "# 데이터에서 최소 좌표와 최대 좌표를 계산한다. \n",
        "x_min, x_max = X[:, 0].min() - 1, X[:, 0].max() + 1\n",
        "y_min, y_max = X[:, 1].min() - 1, X[:, 1].max() + 1\n",
        "\n",
        "# 0.1 간격으로 메쉬 그리드 좌표를 만든다. \n",
        "xx, yy = np.meshgrid(np.arange(x_min, x_max, 0.1), np.arange(y_min, y_max, 0.1)) \n",
        "# xx.shape,yy.shape\n",
        "# xx.ravel().shape  # , 123*91\n",
        "\n",
        "# 메쉬 그리드 데이터에 대하여 예측을 한다. \n",
        "Z = clf.predict(np.c_[xx.ravel(), yy.ravel()]).reshape(xx.shape)\n",
        "\n",
        "# 컨투어를 그린다. \n",
        "plt.contourf(xx, yy, Z, alpha=0.4)\n",
        "plt.show() #27번 ~ 출력 시 2개의 데이터를 분류할 수 있다.  \n",
        "#완벽하게 1과 0이 분리되어 있다면 퍼센트론 분리 시 완벽히 분리가능 ㅋ"
      ],
      "metadata": {
        "id": "SteR0cUGrsrC"
      }
    },
    {
      "cell_type": "markdown",
      "source": [
        "## Perceptron : 키,몸무게로 남/여 구별 "
      ],
      "metadata": {
        "id": "c2NTZ2C9rr-z"
      }
    },
    {
      "cell_type": "code",
      "source": [
        "# -*- coding: utf-8 -*-\n",
        "\"\"\"\n",
        "Created on Wed Sep 28 14:38:13 2022\n",
        "\n",
        "@author: 원지찬\n",
        "\"\"\"\n",
        "#M Model\n",
        "from sklearn.linear_model import Perceptron\n",
        "\n",
        "X = [[160,55],[165,48],[163,43],[170,80],[175,76],[180,70]]\n",
        "y = [0,0,0,1,1,1]\n",
        "\n",
        "clf = Perceptron(tol=1e-3, random_state=0) # 0과 1기준 = 1/1000\n",
        "\n",
        "clf.fit(X,y)\n",
        "\n",
        "print(clf.predict(X)) # 0 0 0 1 1 1 = 정확히 예측 \n",
        "print(clf.coef_) # 예측에 사용된 바이어스 값 == -59 160, \n",
        "print(clf.intercept_) \n",
        "# 분리 \n",
        "X1= [X[0] for x in X]\n",
        "X2 =[x[1] for x in X]\n",
        "\n",
        "plt.scatter(X1,X2,c=y)\n",
        "\n",
        "plt.show()\n",
        "# Check Result \n",
        "import numpy as np \n",
        "Y1 = np.array(X)@(np.array(clf.coef_).T)+clf.intercept_()\n",
        "\n",
        "epsilon = 0.0000001 \n",
        "def step_func(t):\n",
        "    if t > epsilon: return 1 \n",
        "    else:   return 0 "
      ],
      "metadata": {
        "colab": {
          "base_uri": "https://localhost:8080/",
          "height": 392
        },
        "id": "Wj563Wqks5pX",
        "outputId": "abfe403f-6747-4e98-bd79-909521b38e65"
      },
      "execution_count": 7,
      "outputs": [
        {
          "output_type": "error",
          "ename": "ModuleNotFoundError",
          "evalue": "ignored",
          "traceback": [
            "\u001b[0;31m---------------------------------------------------------------------------\u001b[0m",
            "\u001b[0;31mModuleNotFoundError\u001b[0m                       Traceback (most recent call last)",
            "\u001b[0;32m<ipython-input-7-f4b273fbdf18>\u001b[0m in \u001b[0;36m<module>\u001b[0;34m\u001b[0m\n\u001b[1;32m      7\u001b[0m \u001b[0;34m\u001b[0m\u001b[0m\n\u001b[1;32m      8\u001b[0m \u001b[0;32mfrom\u001b[0m \u001b[0msklearn\u001b[0m\u001b[0;34m.\u001b[0m\u001b[0mlinear_model\u001b[0m \u001b[0;32mimport\u001b[0m \u001b[0mPerceptron\u001b[0m\u001b[0;34m\u001b[0m\u001b[0;34m\u001b[0m\u001b[0m\n\u001b[0;32m----> 9\u001b[0;31m \u001b[0;32mimport\u001b[0m \u001b[0mmatplotlib\u001b[0m\u001b[0;34m.\u001b[0m\u001b[0mplob\u001b[0m \u001b[0;32mas\u001b[0m \u001b[0mplt\u001b[0m\u001b[0;34m\u001b[0m\u001b[0;34m\u001b[0m\u001b[0m\n\u001b[0m\u001b[1;32m     10\u001b[0m \u001b[0;34m\u001b[0m\u001b[0m\n\u001b[1;32m     11\u001b[0m \u001b[0mX\u001b[0m \u001b[0;34m=\u001b[0m \u001b[0;34m[\u001b[0m\u001b[0;34m[\u001b[0m\u001b[0;36m160\u001b[0m\u001b[0;34m,\u001b[0m\u001b[0;36m55\u001b[0m\u001b[0;34m]\u001b[0m\u001b[0;34m,\u001b[0m\u001b[0;34m[\u001b[0m\u001b[0;36m165\u001b[0m\u001b[0;34m,\u001b[0m\u001b[0;36m48\u001b[0m\u001b[0;34m]\u001b[0m\u001b[0;34m,\u001b[0m\u001b[0;34m[\u001b[0m\u001b[0;36m163\u001b[0m\u001b[0;34m,\u001b[0m\u001b[0;36m43\u001b[0m\u001b[0;34m]\u001b[0m\u001b[0;34m,\u001b[0m\u001b[0;34m[\u001b[0m\u001b[0;36m170\u001b[0m\u001b[0;34m,\u001b[0m\u001b[0;36m80\u001b[0m\u001b[0;34m]\u001b[0m\u001b[0;34m,\u001b[0m\u001b[0;34m[\u001b[0m\u001b[0;36m175\u001b[0m\u001b[0;34m,\u001b[0m\u001b[0;36m76\u001b[0m\u001b[0;34m]\u001b[0m\u001b[0;34m,\u001b[0m\u001b[0;34m[\u001b[0m\u001b[0;36m180\u001b[0m\u001b[0;34m,\u001b[0m\u001b[0;36m70\u001b[0m\u001b[0;34m]\u001b[0m\u001b[0;34m]\u001b[0m\u001b[0;34m\u001b[0m\u001b[0;34m\u001b[0m\u001b[0m\n",
            "\u001b[0;31mModuleNotFoundError\u001b[0m: No module named 'matplotlib.plob'",
            "",
            "\u001b[0;31m---------------------------------------------------------------------------\u001b[0;32m\nNOTE: If your import is failing due to a missing package, you can\nmanually install dependencies using either !pip or !apt.\n\nTo view examples of installing some common dependencies, click the\n\"Open Examples\" button below.\n\u001b[0;31m---------------------------------------------------------------------------\u001b[0m\n"
          ],
          "errorDetails": {
            "actions": [
              {
                "action": "open_url",
                "actionText": "Open Examples",
                "url": "/notebooks/snippets/importing_libraries.ipynb"
              }
            ]
          }
        }
      ]
    }
  ]
}